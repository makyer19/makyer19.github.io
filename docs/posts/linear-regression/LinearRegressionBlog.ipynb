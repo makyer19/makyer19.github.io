{
 "cells": [
  {
   "cell_type": "markdown",
   "id": "40c2df81-5725-4e9d-bf42-cfa1009d095d",
   "metadata": {},
   "source": [
    "---\n",
    "title: \"Linear Regression Blogpost\"\n",
    "author: \"Michael Alex Kyer\"\n",
    "date: \"9/25/2023\"\n",
    "format: \n",
    "  html:\n",
    "    code-fold: true\n",
    "jupyter: python3\n",
    "---\n",
    "\n",
    "## Polar Axis\n",
    "\n",
    "For a demonstration of a line plot on a polar axis, see @fig-polar.\n",
    "\n",
    "```{python}\n",
    "#| label: fig-polar\n",
    "#| fig-cap: \"A line plot on a polar axis\"\n",
    "\n",
    "import numpy as np\n",
    "import matplotlib.pyplot as plt\n",
    "\n",
    "r = np.arange(0, 2, 0.01)\n",
    "theta = 2 * np.pi * r\n",
    "fig, ax = plt.subplots(subplot_kw={'projection': 'polar'})\n",
    "ax.plot(theta, r)\n",
    "ax.set_rticks([0.5, 1, 1.5, 2])\n",
    "ax.grid(True)\n",
    "plt.show()\n",
    "```"
   ]
  }
 ],
 "metadata": {
  "kernelspec": {
   "display_name": "Python 3 (ipykernel)",
   "language": "python",
   "name": "python3"
  },
  "language_info": {
   "codemirror_mode": {
    "name": "ipython",
    "version": 3
   },
   "file_extension": ".py",
   "mimetype": "text/x-python",
   "name": "python",
   "nbconvert_exporter": "python",
   "pygments_lexer": "ipython3",
   "version": "3.11.4"
  }
 },
 "nbformat": 4,
 "nbformat_minor": 5
}
